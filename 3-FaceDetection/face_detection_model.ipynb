{
 "cells": [
  {
   "cell_type": "code",
   "execution_count": 1,
   "metadata": {},
   "outputs": [],
   "source": [
    "import os\n",
    "import cv2 as cv\n",
    "import numpy as np\n",
    "\n",
    "import warnings\n",
    "warnings.filterwarnings(\"ignore\")"
   ]
  },
  {
   "cell_type": "code",
   "execution_count": 2,
   "metadata": {},
   "outputs": [
    {
     "data": {
      "text/plain": [
       "'f:\\\\OpenCV\\\\Learning\\\\3-FaceDetection\\\\Faces\\\\train'"
      ]
     },
     "execution_count": 2,
     "metadata": {},
     "output_type": "execute_result"
    }
   ],
   "source": [
    "# NOTE: Run the Code below only once\n",
    "\n",
    "DIR = os.path.join(os.getcwd(), \"Faces\", \"train\")\n",
    "DIR"
   ]
  },
  {
   "cell_type": "code",
   "execution_count": 3,
   "metadata": {},
   "outputs": [
    {
     "data": {
      "text/plain": [
       "['Ben Afflek', 'Elton John', 'Jerry Seinfield', 'Madonna', 'Mindy Kaling']"
      ]
     },
     "execution_count": 3,
     "metadata": {},
     "output_type": "execute_result"
    }
   ],
   "source": [
    "people = os.listdir(DIR)\n",
    "people"
   ]
  },
  {
   "cell_type": "code",
   "execution_count": 4,
   "metadata": {},
   "outputs": [],
   "source": [
    "# Lists to store the Image Features and their Labels\n",
    "features = []\n",
    "labels = []\n",
    "\n",
    "# Harcascade Model for Face Recognition\n",
    "haarcascade = cv.CascadeClassifier(cv.data.haarcascades + 'haarcascade_frontalface_default.xml')\n",
    "\n",
    "for person in people:\n",
    "    # Getting the parent directory\n",
    "    path = os.path.join(DIR, person)\n",
    "    # Getting the label for the image\n",
    "    label = people.index(person)\n",
    "\n",
    "    for img in os.listdir(path):\n",
    "        # Getting the path of the image\n",
    "        img_path = os.path.join(path, img)\n",
    "\n",
    "        # Reading and Grayscaling the image\n",
    "        img_array = cv.imread(img_path)\n",
    "        gray = cv.cvtColor(img_array, cv.COLOR_BGR2GRAY)\n",
    "\n",
    "        faces_rect = haarcascade.detectMultiScale(gray, scaleFactor=1.1, minNeighbors=4)\n",
    "\n",
    "        for (x, y, w, h) in faces_rect:\n",
    "            # Get the exact region for the face and adding it to the features list\n",
    "            faces_roi = gray[y:y+h, x:x+w]\n",
    "            features.append(faces_roi)\n",
    "            # Appending the label to labes list\n",
    "            labels.append(label)"
   ]
  },
  {
   "cell_type": "code",
   "execution_count": 5,
   "metadata": {},
   "outputs": [
    {
     "name": "stdout",
     "output_type": "stream",
     "text": [
      "Length of the features = 100\n",
      "Length of the labels = 100\n"
     ]
    }
   ],
   "source": [
    "features = np.array(features, dtype=\"object\")\n",
    "labels = np.array(labels)\n",
    "\n",
    "np.save(\"features.npy\", features)\n",
    "np.save(\"labels.npy\", labels)\n",
    "\n",
    "print(f\"Length of the features = {len(features)}\")\n",
    "print(f\"Length of the labels = {len(labels)}\")"
   ]
  },
  {
   "cell_type": "code",
   "execution_count": 6,
   "metadata": {},
   "outputs": [],
   "source": [
    "face_recognizer = cv.face.LBPHFaceRecognizer_create()\n",
    "\n",
    "# Train the Recognizer on feature and labels list\n",
    "face_recognizer.train(features, labels)\n",
    "\n",
    "face_recognizer.save(\"face_trained.yml\")"
   ]
  }
 ],
 "metadata": {
  "interpreter": {
   "hash": "7839cf4c65842d51d8727e8d31cc7b71e238461db52811f472cb074731c49f23"
  },
  "kernelspec": {
   "display_name": "Python 3.9.7 64-bit ('base': conda)",
   "language": "python",
   "name": "python3"
  },
  "language_info": {
   "codemirror_mode": {
    "name": "ipython",
    "version": 3
   },
   "file_extension": ".py",
   "mimetype": "text/x-python",
   "name": "python",
   "nbconvert_exporter": "python",
   "pygments_lexer": "ipython3",
   "version": "3.9.7"
  },
  "orig_nbformat": 4
 },
 "nbformat": 4,
 "nbformat_minor": 2
}
